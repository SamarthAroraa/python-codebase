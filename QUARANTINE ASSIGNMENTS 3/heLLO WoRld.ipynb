{
 "cells": [
  {
   "cell_type": "code",
   "execution_count": 4,
   "metadata": {},
   "outputs": [
    {
     "name": "stdout",
     "output_type": "stream",
     "text": [
      "HEllo world\n"
     ]
    }
   ],
   "source": [
    "def p():\n",
    "    print(\"HEllo world\")\n",
    "p()"
   ]
  },
  {
   "cell_type": "code",
   "execution_count": null,
   "metadata": {},
   "outputs": [],
   "source": []
  },
  {
   "cell_type": "code",
   "execution_count": 3,
   "metadata": {},
   "outputs": [
    {
     "name": "stdout",
     "output_type": "stream",
     "text": [
      "j\n"
     ]
    }
   ],
   "source": [
    "print(\"j\")"
   ]
  },
  {
   "cell_type": "code",
   "execution_count": 5,
   "metadata": {},
   "outputs": [
    {
     "name": "stdout",
     "output_type": "stream",
     "text": [
      "Python 2.7.16\r\n"
     ]
    }
   ],
   "source": [
    "!python --version"
   ]
  },
  {
   "cell_type": "code",
   "execution_count": null,
   "metadata": {},
   "outputs": [],
   "source": [
    "!python exit()\n"
   ]
  },
  {
   "cell_type": "code",
   "execution_count": 7,
   "metadata": {},
   "outputs": [
    {
     "name": "stdout",
     "output_type": "stream",
     "text": [
      "/System/Library/Frameworks/Python.framework/Versions/2.7/Resources/Python.app/Contents/MacOS/Python: can't open file 'update': [Errno 2] No such file or directory\r\n"
     ]
    }
   ],
   "source": [
    "!python update"
   ]
  },
  {
   "cell_type": "code",
   "execution_count": 8,
   "metadata": {},
   "outputs": [
    {
     "name": "stdout",
     "output_type": "stream",
     "text": [
      "\u001b[31mERROR: Could not find a version that satisfies the requirement python (from versions: none)\u001b[0m\r\n",
      "\u001b[31mERROR: No matching distribution found for python\u001b[0m\r\n"
     ]
    }
   ],
   "source": [
    "!pip install python\n"
   ]
  },
  {
   "cell_type": "code",
   "execution_count": 10,
   "metadata": {},
   "outputs": [
    {
     "name": "stdout",
     "output_type": "stream",
     "text": [
      "Python 2.7.16\r\n"
     ]
    }
   ],
   "source": [
    "!python --version"
   ]
  },
  {
   "cell_type": "code",
   "execution_count": null,
   "metadata": {},
   "outputs": [
    {
     "name": "stdout",
     "output_type": "stream",
     "text": [
      "\r\n",
      "WARNING: Python 2.7 is not recommended. \r\n",
      "This version is included in macOS for compatibility with legacy software. \r\n",
      "Future versions of macOS will not include Python 2.7. \r\n",
      "Instead, it is recommended that you transition to using 'python3' from within Terminal.\r\n",
      "\r\n",
      "Python 2.7.16 (default, Dec 13 2019, 18:00:32) \r\n",
      "[GCC 4.2.1 Compatible Apple LLVM 11.0.0 (clang-1100.0.32.4) (-macos10.15-objc-s on darwin\r\n",
      "Type \"help\", \"copyright\", \"credits\" or \"license\" for more information.\r\n",
      ">>> "
     ]
    }
   ],
   "source": [
    "!python"
   ]
  },
  {
   "cell_type": "code",
   "execution_count": null,
   "metadata": {},
   "outputs": [],
   "source": [
    "!exit()"
   ]
  },
  {
   "cell_type": "code",
   "execution_count": null,
   "metadata": {},
   "outputs": [],
   "source": [
    "!python"
   ]
  },
  {
   "cell_type": "code",
   "execution_count": null,
   "metadata": {},
   "outputs": [],
   "source": [
    "!print(\"hello\")"
   ]
  },
  {
   "cell_type": "code",
   "execution_count": null,
   "metadata": {},
   "outputs": [],
   "source": [
    "print(\"hello]\")"
   ]
  },
  {
   "cell_type": "code",
   "execution_count": null,
   "metadata": {},
   "outputs": [],
   "source": [
    "python\n"
   ]
  },
  {
   "cell_type": "code",
   "execution_count": null,
   "metadata": {},
   "outputs": [],
   "source": [
    "!python"
   ]
  },
  {
   "cell_type": "code",
   "execution_count": null,
   "metadata": {},
   "outputs": [],
   "source": [
    "print(\"hety\")"
   ]
  },
  {
   "cell_type": "code",
   "execution_count": null,
   "metadata": {},
   "outputs": [],
   "source": [
    "!python --version\n"
   ]
  },
  {
   "cell_type": "code",
   "execution_count": null,
   "metadata": {},
   "outputs": [],
   "source": []
  },
  {
   "cell_type": "code",
   "execution_count": null,
   "metadata": {},
   "outputs": [],
   "source": [
    "print(\"g\")"
   ]
  },
  {
   "cell_type": "code",
   "execution_count": null,
   "metadata": {},
   "outputs": [],
   "source": [
    "print(\"hello\")"
   ]
  },
  {
   "cell_type": "code",
   "execution_count": 1,
   "metadata": {},
   "outputs": [
    {
     "name": "stdout",
     "output_type": "stream",
     "text": [
      "Python 2.7.16\r\n"
     ]
    }
   ],
   "source": [
    "!python --version\n"
   ]
  },
  {
   "cell_type": "code",
   "execution_count": 2,
   "metadata": {},
   "outputs": [
    {
     "name": "stdout",
     "output_type": "stream",
     "text": [
      "Unknown option: --\r\n",
      "usage: /System/Library/Frameworks/Python.framework/Versions/2.7/Resources/Python.app/Contents/MacOS/Python [option] ... [-c cmd | -m mod | file | -] [arg] ...\r\n",
      "Try `python -h' for more information.\r\n"
     ]
    }
   ],
   "source": [
    "!python --update"
   ]
  },
  {
   "cell_type": "code",
   "execution_count": 3,
   "metadata": {},
   "outputs": [
    {
     "name": "stdout",
     "output_type": "stream",
     "text": [
      "usage: /System/Library/Frameworks/Python.framework/Versions/2.7/Resources/Python.app/Contents/MacOS/Python [option] ... [-c cmd | -m mod | file | -] [arg] ...\r\n",
      "Options and arguments (and corresponding environment variables):\r\n",
      "-b     : issue warnings about comparing bytearray with unicode\r\n",
      "         (-bb: issue errors)\r\n",
      "-B     : don't write .py[co] files on import; also PYTHONDONTWRITEBYTECODE=x\r\n",
      "-c cmd : program passed in as string (terminates option list)\r\n",
      "-d     : debug output from parser; also PYTHONDEBUG=x\r\n",
      "-E     : ignore PYTHON* environment variables (such as PYTHONPATH)\r\n",
      "-h     : print this help message and exit (also --help)\r\n",
      "-i     : inspect interactively after running script; forces a prompt even\r\n",
      "         if stdin does not appear to be a terminal; also PYTHONINSPECT=x\r\n",
      "-m mod : run library module as a script (terminates option list)\r\n",
      "-O     : optimize generated bytecode slightly; also PYTHONOPTIMIZE=x\r\n",
      "-OO    : remove doc-strings in addition to the -O optimizations\r\n",
      "-R     : use a pseudo-random salt to make hash() values of various types be\r\n",
      "         unpredictable between separate invocations of the interpreter, as\r\n",
      "         a defense against denial-of-service attacks\r\n",
      "-Q arg : division options: -Qold (default), -Qwarn, -Qwarnall, -Qnew\r\n",
      "-s     : don't add user site directory to sys.path; also PYTHONNOUSERSITE\r\n",
      "-S     : don't imply 'import site' on initialization\r\n",
      "-t     : issue warnings about inconsistent tab usage (-tt: issue errors)\r\n",
      "-u     : unbuffered binary stdout and stderr; also PYTHONUNBUFFERED=x\r\n",
      "         see man page for details on internal buffering relating to '-u'\r\n",
      "-v     : verbose (trace import statements); also PYTHONVERBOSE=x\r\n",
      "         can be supplied multiple times to increase verbosity\r\n",
      "-V     : print the Python version number and exit (also --version)\r\n",
      "-W arg : warning control; arg is action:message:category:module:lineno\r\n",
      "         also PYTHONWARNINGS=arg\r\n",
      "-x     : skip first line of source, allowing use of non-Unix forms of #!cmd\r\n",
      "-3     : warn about Python 3.x incompatibilities that 2to3 cannot trivially fix\r\n",
      "file   : program read from script file\r\n",
      "-      : program read from stdin (default; interactive mode if a tty)\r\n",
      "arg ...: arguments passed to program in sys.argv[1:]\r\n",
      "\r\n",
      "Other environment variables:\r\n",
      "PYTHONSTARTUP: file executed on interactive startup (no default)\r\n",
      "PYTHONPATH   : ':'-separated list of directories prefixed to the\r\n",
      "               default module search path.  The result is sys.path.\r\n",
      "PYTHONHOME   : alternate <prefix> directory (or <prefix>:<exec_prefix>).\r\n",
      "               The default module search path uses <prefix>/pythonX.X.\r\n",
      "PYTHONCASEOK : ignore case in 'import' statements (Windows).\r\n",
      "PYTHONIOENCODING: Encoding[:errors] used for stdin/stdout/stderr.\r\n",
      "PYTHONHASHSEED: if this variable is set to 'random', the effect is the same\r\n",
      "   as specifying the -R option: a random value is used to seed the hashes of\r\n",
      "   str, bytes and datetime objects.  It can also be set to an integer\r\n",
      "   in the range [0,4294967295] to get hash values with a predictable seed.\r\n"
     ]
    }
   ],
   "source": [
    "!python -h"
   ]
  },
  {
   "cell_type": "code",
   "execution_count": 4,
   "metadata": {},
   "outputs": [
    {
     "name": "stdout",
     "output_type": "stream",
     "text": [
      "pip 20.1 from /usr/local/lib/python3.7/site-packages/pip (python 3.7)\r\n"
     ]
    }
   ],
   "source": [
    "!pip --version\n"
   ]
  },
  {
   "cell_type": "code",
   "execution_count": 6,
   "metadata": {},
   "outputs": [
    {
     "name": "stdout",
     "output_type": "stream",
     "text": [
      "\u001b[31mERROR: Could not find a version that satisfies the requirement python3 (from versions: none)\u001b[0m\r\n",
      "\u001b[31mERROR: No matching distribution found for python3\u001b[0m\r\n"
     ]
    }
   ],
   "source": [
    "!pip install python3"
   ]
  },
  {
   "cell_type": "code",
   "execution_count": 8,
   "metadata": {},
   "outputs": [
    {
     "name": "stdout",
     "output_type": "stream",
     "text": [
      "1 2 3 4 5 \n",
      "['1', '2', '3', '4', '5']\n"
     ]
    }
   ],
   "source": [
    "lis=input().split()\n",
    "print(lis)"
   ]
  },
  {
   "cell_type": "code",
   "execution_count": null,
   "metadata": {},
   "outputs": [],
   "source": []
  }
 ],
 "metadata": {
  "kernelspec": {
   "display_name": "Python 3",
   "language": "python",
   "name": "python3"
  },
  "language_info": {
   "codemirror_mode": {
    "name": "ipython",
    "version": 3
   },
   "file_extension": ".py",
   "mimetype": "text/x-python",
   "name": "python",
   "nbconvert_exporter": "python",
   "pygments_lexer": "ipython3",
   "version": "3.7.4"
  }
 },
 "nbformat": 4,
 "nbformat_minor": 4
}
